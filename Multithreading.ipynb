{
 "cells": [
  {
   "cell_type": "code",
   "execution_count": 1,
   "id": "33df9ffc-8d5e-4a45-a7c5-d8c2df8c462a",
   "metadata": {},
   "outputs": [],
   "source": [
    "import threading"
   ]
  },
  {
   "cell_type": "code",
   "execution_count": 2,
   "id": "e142e058-0e17-4568-8c42-ca220d5a8b11",
   "metadata": {},
   "outputs": [],
   "source": [
    "from pprint import pprint\n",
    "\n",
    "def new_func():\n",
    "    \n",
    "    pprint(threading.active_count())\n",
    "    print()\n",
    "    pprint(threading.enumerate())\n",
    "    print()\n",
    "    pprint(threading.current_thread())"
   ]
  },
  {
   "cell_type": "code",
   "execution_count": 3,
   "id": "85f98e68-d96e-405c-8cfa-6a6dc36cdd18",
   "metadata": {},
   "outputs": [
    {
     "name": "stdout",
     "output_type": "stream",
     "text": [
      "7\n",
      "\n",
      "[<_MainThread(MainThread, started 140228956156736)>,\n",
      " <Thread(IOPub, started daemon 140228803163904)>,\n",
      " <Heartbeat(Heartbeat, started daemon 140228794771200)>,\n",
      " <Thread(Thread-2, started daemon 140228769593088)>,\n",
      " <Thread(Thread-3, started daemon 140228761200384)>,\n",
      " <ControlThread(Control, started daemon 140228752807680)>,\n",
      " <HistorySavingThread(IPythonHistorySavingThread, started 140228400510720)>]\n",
      "\n",
      "<_MainThread(MainThread, started 140228956156736)>\n"
     ]
    }
   ],
   "source": [
    "new_func()"
   ]
  },
  {
   "cell_type": "code",
   "execution_count": 4,
   "id": "4b3f91e1-c872-4f38-9143-5461da1ae123",
   "metadata": {},
   "outputs": [],
   "source": [
    "def func():\n",
    "    print(\"Hello from func! \\n\")"
   ]
  },
  {
   "cell_type": "code",
   "execution_count": 5,
   "id": "e54b08e5-2838-43ba-ab34-2004afbefa02",
   "metadata": {},
   "outputs": [
    {
     "name": "stdout",
     "output_type": "stream",
     "text": [
      "Hello from func! \n",
      "\n"
     ]
    }
   ],
   "source": [
    "x = threading.Thread(target = func)\n",
    "\n",
    "x.start()"
   ]
  },
  {
   "cell_type": "code",
   "execution_count": 6,
   "id": "fb61e744-1b60-4354-99a6-b31b486f078b",
   "metadata": {},
   "outputs": [],
   "source": [
    "import time"
   ]
  },
  {
   "cell_type": "code",
   "execution_count": 7,
   "id": "6d7ad293-b199-40d2-9649-8c708de53298",
   "metadata": {},
   "outputs": [],
   "source": [
    "def sleeping_func():\n",
    "    time.sleep(2)\n",
    "    print(\"\\nHello from sleeping_func\")\n"
   ]
  },
  {
   "cell_type": "code",
   "execution_count": 8,
   "id": "52a8a5e9-26ec-4a07-af0b-282e5a834b7a",
   "metadata": {},
   "outputs": [
    {
     "name": "stdout",
     "output_type": "stream",
     "text": [
      "8\n",
      "\n",
      "[<_MainThread(MainThread, started 140228956156736)>,\n",
      " <Thread(IOPub, started daemon 140228803163904)>,\n",
      " <Heartbeat(Heartbeat, started daemon 140228794771200)>,\n",
      " <Thread(Thread-2, started daemon 140228769593088)>,\n",
      " <Thread(Thread-3, started daemon 140228761200384)>,\n",
      " <ControlThread(Control, started daemon 140228752807680)>,\n",
      " <HistorySavingThread(IPythonHistorySavingThread, started 140228400510720)>,\n",
      " <Thread(Thread-5, started 140228392118016)>]\n",
      "\n",
      "<_MainThread(MainThread, started 140228956156736)>\n"
     ]
    }
   ],
   "source": [
    "x = threading.Thread(target=sleeping_func)\n",
    "x.start()\n",
    "\n",
    "pprint(threading.active_count())\n",
    "print()\n",
    "pprint(threading.enumerate())\n",
    "print()\n",
    "pprint(threading.current_thread())"
   ]
  },
  {
   "cell_type": "code",
   "execution_count": 9,
   "id": "c8844418-c9f5-4893-9d56-cf60a94ac25e",
   "metadata": {},
   "outputs": [
    {
     "name": "stdout",
     "output_type": "stream",
     "text": [
      "\n",
      "Hello from sleeping_func\n",
      "\n",
      "Hello from sleeping_func\n",
      "Main thread first\n"
     ]
    }
   ],
   "source": [
    "x = threading.Thread(target = sleeping_func)\n",
    "x.start()\n",
    "x.join()\n",
    "print(\"Main thread first\")"
   ]
  },
  {
   "cell_type": "code",
   "execution_count": 10,
   "id": "dac4d5dd-6a42-4d3a-a604-ac1a93c2a7db",
   "metadata": {},
   "outputs": [
    {
     "name": "stdout",
     "output_type": "stream",
     "text": [
      "\n",
      "Hello from func my name is Thread-7\n",
      "\n",
      "Main thread here. My name is MainThread\n"
     ]
    }
   ],
   "source": [
    "def func():\n",
    "    time.sleep(2)\n",
    "    print(\"\\nHello from func my name is\", threading.currentThread().getName())\n",
    "    \n",
    "x = threading.Thread(target = func)\n",
    "\n",
    "x.start()\n",
    "x.join()\n",
    "\n",
    "print(\"\\nMain thread here. My name is\", threading.currentThread().getName())\n",
    "    "
   ]
  },
  {
   "cell_type": "code",
   "execution_count": 11,
   "id": "d0a33838-adf0-4b6e-a7cf-7c3dc0fdaafb",
   "metadata": {},
   "outputs": [
    {
     "name": "stdout",
     "output_type": "stream",
     "text": [
      "MainThread\n",
      "\n",
      "Hello from func my name is Thread-8\n",
      "this is main MainThread\n"
     ]
    }
   ],
   "source": [
    "x = threading.Thread(target=func)\n",
    "\n",
    "print(threading.current_thread().getName())\n",
    "\n",
    "x.start()\n",
    "x.join()\n",
    "\n",
    "print(\"this is main\", threading.current_thread().getName())"
   ]
  },
  {
   "cell_type": "code",
   "execution_count": 12,
   "id": "663af406-159f-41a0-aa11-1e0d4feda575",
   "metadata": {},
   "outputs": [],
   "source": [
    "def calc_square(n):\n",
    "    result = n * n\n",
    "    \n",
    "    print(f\"result is {result}\")"
   ]
  },
  {
   "cell_type": "code",
   "execution_count": 13,
   "id": "d7e34c85-052b-493e-81db-dadff9b12d94",
   "metadata": {},
   "outputs": [
    {
     "name": "stdout",
     "output_type": "stream",
     "text": [
      "result is 1\n",
      "result is 4\n",
      "result is 9\n",
      "result is 16\n"
     ]
    }
   ],
   "source": [
    "square_list = []\n",
    "num_list = [1,2,3,4]\n",
    "\n",
    "for n in num_list:\n",
    "    thread = threading.Thread(target=calc_square,args=(n, ))\n",
    "    square_list.append(thread)\n",
    "    \n",
    "    thread.start()\n",
    "    thread.join()"
   ]
  },
  {
   "cell_type": "code",
   "execution_count": 14,
   "id": "aee72fe6-4512-4c22-a5c8-1f1df46935e4",
   "metadata": {},
   "outputs": [
    {
     "name": "stdout",
     "output_type": "stream",
     "text": [
      "\n",
      "Hello from func! My name is Thread-13\n",
      "Returned to  MainThread\n"
     ]
    }
   ],
   "source": [
    "class DerivedThread(threading.Thread):\n",
    "    \n",
    "    def run(self):\n",
    "        time.sleep(2)\n",
    "        print(\"\\nHello from func! My name is\", threading.current_thread().getName())\n",
    "        \n",
    "obj = DerivedThread()\n",
    "obj.start()\n",
    "obj.join()\n",
    "\n",
    "print(\"Returned to \", threading.current_thread().getName())\n",
    "        \n",
    "        "
   ]
  },
  {
   "cell_type": "code",
   "execution_count": 15,
   "id": "7fe42748-a21b-49eb-a44b-500a6524915b",
   "metadata": {},
   "outputs": [
    {
     "name": "stdout",
     "output_type": "stream",
     "text": [
      "Printing from child thread:  7\n",
      "Printing from child thread:  6\n",
      "Printing from child thread:  11\n",
      "Printing from child thread:  No\n",
      "Printing from child thread:  5.2\n",
      "Printing from child thread:  Test\n",
      "Returned to  MainThread\n"
     ]
    }
   ],
   "source": [
    "class RegularClass:\n",
    "    \n",
    "    def print_list(self):\n",
    "        mixed_list = [7,6,11,'No',5.2,'Test']\n",
    "        \n",
    "        for x in mixed_list:\n",
    "            print(\"Printing from child thread: \",x)\n",
    "            time.sleep(1)\n",
    "            \n",
    "obj = RegularClass()\n",
    "x = threading.Thread(target= obj.print_list)\n",
    "\n",
    "x.start()\n",
    "x.join()\n",
    "\n",
    "print(\"Returned to \", threading.current_thread().getName())"
   ]
  },
  {
   "cell_type": "code",
   "execution_count": 16,
   "id": "231f3f5d-4f57-4c72-91c5-c2af2070dee5",
   "metadata": {},
   "outputs": [
    {
     "name": "stdout",
     "output_type": "stream",
     "text": [
      "Hello\n",
      "Hello\n",
      "Hello\n",
      "Hello\n",
      "Hello\n",
      "Hello\n",
      "World\n"
     ]
    },
    {
     "ename": "KeyboardInterrupt",
     "evalue": "",
     "output_type": "error",
     "traceback": [
      "\u001b[0;31m---------------------------------------------------------------------------\u001b[0m",
      "\u001b[0;31mKeyboardInterrupt\u001b[0m                         Traceback (most recent call last)",
      "Input \u001b[0;32mIn [16]\u001b[0m, in \u001b[0;36m<cell line: 14>\u001b[0;34m()\u001b[0m\n\u001b[1;32m     11\u001b[0m start_time \u001b[38;5;241m=\u001b[39m time\u001b[38;5;241m.\u001b[39mtime()\n\u001b[1;32m     13\u001b[0m greetings_1()\n\u001b[0;32m---> 14\u001b[0m \u001b[43mgreetings_2\u001b[49m\u001b[43m(\u001b[49m\u001b[43m)\u001b[49m\n\u001b[1;32m     16\u001b[0m end_time \u001b[38;5;241m=\u001b[39m time\u001b[38;5;241m.\u001b[39mtime()\n\u001b[1;32m     18\u001b[0m \u001b[38;5;28mprint\u001b[39m(\u001b[38;5;124m\"\u001b[39m\u001b[38;5;124mTotal time: \u001b[39m\u001b[38;5;124m\"\u001b[39m, end_time \u001b[38;5;241m-\u001b[39m start_time)\n",
      "Input \u001b[0;32mIn [16]\u001b[0m, in \u001b[0;36mgreetings_2\u001b[0;34m()\u001b[0m\n\u001b[1;32m      7\u001b[0m \u001b[38;5;28;01mfor\u001b[39;00m i \u001b[38;5;129;01min\u001b[39;00m \u001b[38;5;28mrange\u001b[39m(\u001b[38;5;241m6\u001b[39m):\n\u001b[1;32m      8\u001b[0m     \u001b[38;5;28mprint\u001b[39m(\u001b[38;5;124m\"\u001b[39m\u001b[38;5;124mWorld\u001b[39m\u001b[38;5;124m\"\u001b[39m)\n\u001b[0;32m----> 9\u001b[0m     \u001b[43mtime\u001b[49m\u001b[38;5;241;43m.\u001b[39;49m\u001b[43msleep\u001b[49m\u001b[43m(\u001b[49m\u001b[38;5;241;43m1\u001b[39;49m\u001b[43m)\u001b[49m\n",
      "\u001b[0;31mKeyboardInterrupt\u001b[0m: "
     ]
    }
   ],
   "source": [
    "def greetings_1():\n",
    "    for i in range(6):\n",
    "        print(\"Hello\")\n",
    "        time.sleep(1)\n",
    "        \n",
    "def greetings_2():\n",
    "    for i in range(6):\n",
    "        print(\"World\")\n",
    "        time.sleep(1)\n",
    "        \n",
    "start_time = time.time()\n",
    "\n",
    "greetings_1()\n",
    "greetings_2()\n",
    "\n",
    "end_time = time.time()\n",
    "\n",
    "print(\"Total time: \", end_time - start_time)"
   ]
  },
  {
   "cell_type": "code",
   "execution_count": 17,
   "id": "828c2017-d5f5-474a-98e5-8aee15458900",
   "metadata": {},
   "outputs": [
    {
     "name": "stdout",
     "output_type": "stream",
     "text": [
      "Hello\n",
      "World\n",
      "HelloWorld\n",
      "\n",
      "Hello\n",
      "World\n",
      "HelloWorld\n",
      "\n",
      "World\n",
      "Hello\n",
      "World\n",
      "Hello\n",
      "Total time:  6.009813070297241\n"
     ]
    }
   ],
   "source": [
    "def greetings_1():\n",
    "    for i in range(6):\n",
    "        print(\"Hello\")\n",
    "        time.sleep(1)\n",
    "        \n",
    "def greetings_2():\n",
    "    for i in range(6):\n",
    "        print(\"World\")\n",
    "        time.sleep(1)\n",
    "        \n",
    "start_time = time.time()\n",
    "\n",
    "t1 = threading.Thread(target = greetings_1)\n",
    "t2 = threading.Thread(target = greetings_2)\n",
    "\n",
    "t1.start()\n",
    "t2.start()\n",
    "\n",
    "t1.join()\n",
    "t2.join()\n",
    "\n",
    "end_time = time.time()\n",
    "\n",
    "print(\"Total time: \", end_time - start_time)"
   ]
  },
  {
   "cell_type": "markdown",
   "id": "7395f457-e5e1-420b-9334-1e9879c95a9f",
   "metadata": {},
   "source": [
    "**Thread Synchronisation**"
   ]
  },
  {
   "cell_type": "code",
   "execution_count": 18,
   "id": "3d863690-2523-4179-99c9-38e48ae93eb9",
   "metadata": {},
   "outputs": [],
   "source": [
    "amount=0"
   ]
  },
  {
   "cell_type": "code",
   "execution_count": 19,
   "id": "f4295420-f6a4-49f1-9b11-b1ab9164bb1b",
   "metadata": {},
   "outputs": [],
   "source": [
    "def deposit(dep_amount):\n",
    "    \n",
    "    global amount\n",
    "    \n",
    "    for i in range(dep_amount):\n",
    "        amount += 1"
   ]
  },
  {
   "cell_type": "code",
   "execution_count": 20,
   "id": "6045e3c1-46fe-4a54-89d6-aab26a5154b1",
   "metadata": {},
   "outputs": [],
   "source": [
    "def two_deposit_threads(dep_amount):\n",
    "    \n",
    "    t1 = threading.Thread(target=deposit, args=(dep_amount,))\n",
    "    t2 = threading.Thread(target=deposit, args=(dep_amount,))\n",
    "    \n",
    "    t1.start()\n",
    "    t2.start()\n",
    "    \n",
    "    t1.join()\n",
    "    t2.join()\n",
    "    \n",
    "    "
   ]
  },
  {
   "cell_type": "code",
   "execution_count": 21,
   "id": "7e6feacf-5d41-4ddf-94f7-9e28aa213c5e",
   "metadata": {},
   "outputs": [
    {
     "name": "stdout",
     "output_type": "stream",
     "text": [
      "Balance amount = 20\n"
     ]
    }
   ],
   "source": [
    "two_deposit_threads(10)\n",
    "print(\"Balance amount = {}\".format(amount))"
   ]
  },
  {
   "cell_type": "code",
   "execution_count": 22,
   "id": "91e129fb-8cf3-4b83-bae9-2a5dc45f4149",
   "metadata": {},
   "outputs": [
    {
     "name": "stdout",
     "output_type": "stream",
     "text": [
      "Balance amount = 2000\n"
     ]
    }
   ],
   "source": [
    "amount=0\n",
    "two_deposit_threads(1000)\n",
    "print(\"Balance amount = {}\".format(amount))"
   ]
  },
  {
   "cell_type": "code",
   "execution_count": 23,
   "id": "d939a55d-6c47-4c7d-91d1-81b5545ea75f",
   "metadata": {},
   "outputs": [
    {
     "name": "stdout",
     "output_type": "stream",
     "text": [
      "Balance amount = 20000\n"
     ]
    }
   ],
   "source": [
    "amount=0\n",
    "two_deposit_threads(10000)\n",
    "print(\"Balance amount = {}\".format(amount))"
   ]
  },
  {
   "cell_type": "code",
   "execution_count": 24,
   "id": "3e82328e-dbb9-4237-be2f-73cffcae7c49",
   "metadata": {},
   "outputs": [
    {
     "name": "stdout",
     "output_type": "stream",
     "text": [
      "Balance amount = 1442775\n"
     ]
    }
   ],
   "source": [
    "amount=0\n",
    "two_deposit_threads(1000000)\n",
    "print(\"Balance amount = {}\".format(amount))"
   ]
  },
  {
   "cell_type": "code",
   "execution_count": 25,
   "id": "285c3671-8a33-4bfc-9bec-e8be970d715c",
   "metadata": {},
   "outputs": [],
   "source": [
    "def deposit(dep_amount,dep_lock):\n",
    "    \n",
    "    global amount\n",
    "    \n",
    "    for i in range(dep_amount):\n",
    "        dep_lock.acquire()\n",
    "        \n",
    "        amount += 1\n",
    "        \n",
    "        dep_lock.release()"
   ]
  },
  {
   "cell_type": "code",
   "execution_count": 26,
   "id": "538ccca2-6c80-419f-9096-79982e228a40",
   "metadata": {},
   "outputs": [],
   "source": [
    "def two_deposit_threads(dep_amount):\n",
    "    \n",
    "    lock = threading.Lock()\n",
    "    \n",
    "    t1 = threading.Thread(target=deposit, args=(dep_amount,lock))\n",
    "    t2 = threading.Thread(target=deposit, args=(dep_amount,lock))\n",
    "    \n",
    "    t1.start()\n",
    "    t2.start()\n",
    "    \n",
    "    t1.join()\n",
    "    t2.join()\n",
    "    "
   ]
  },
  {
   "cell_type": "code",
   "execution_count": 27,
   "id": "247ae6e2-6adf-4679-afa4-d58d62518cf3",
   "metadata": {},
   "outputs": [
    {
     "name": "stdout",
     "output_type": "stream",
     "text": [
      "Balance amount = 2000000\n"
     ]
    }
   ],
   "source": [
    "amount=0\n",
    "two_deposit_threads(1000000)\n",
    "print(\"Balance amount = {}\".format(amount))"
   ]
  },
  {
   "cell_type": "code",
   "execution_count": 28,
   "id": "2db4c3ad-bfd1-42b0-83a5-c55935e81ae3",
   "metadata": {},
   "outputs": [],
   "source": [
    "def deposit(dep_amount,dep_lock):\n",
    "    \n",
    "    global amount\n",
    "    \n",
    "    for i in range(dep_amount):\n",
    "        #Remove .acquire() to see what happens\n",
    "        #dep_lock.acquire()\n",
    "        \n",
    "        #two .acquire() functions next to each other result in infinite loop\n",
    "        \n",
    "        amount += 1\n",
    "        \n",
    "        dep_lock.release()"
   ]
  },
  {
   "cell_type": "code",
   "execution_count": 29,
   "id": "818e6f4e-4a4b-435d-b7c1-b9446113f3b9",
   "metadata": {},
   "outputs": [
    {
     "name": "stderr",
     "output_type": "stream",
     "text": [
      "Exception in thread Exception in thread Thread-28:\n",
      "Traceback (most recent call last):\n",
      "  File \"/opt/conda/envs/anaconda-2022.05-py39/lib/python3.9/threading.py\", line 973, in _bootstrap_inner\n",
      "Thread-27:\n",
      "Traceback (most recent call last):\n",
      "  File \"/opt/conda/envs/anaconda-2022.05-py39/lib/python3.9/threading.py\", line 973, in _bootstrap_inner\n",
      "    self.run()\n",
      "  File \"/opt/conda/envs/anaconda-2022.05-py39/lib/python3.9/threading.py\", line 910, in run\n",
      "    self.run()\n",
      "  File \"/opt/conda/envs/anaconda-2022.05-py39/lib/python3.9/threading.py\", line 910, in run\n",
      "        self._target(*self._args, **self._kwargs)\n",
      "  File \"/tmp/ipykernel_58/3268982695.py\", line 13, in deposit\n",
      "self._target(*self._args, **self._kwargs)\n",
      "  File \"/tmp/ipykernel_58/3268982695.py\", line 13, in deposit\n",
      "RuntimeErrorRuntimeError: release unlocked lock: \n",
      "release unlocked lock\n"
     ]
    },
    {
     "name": "stdout",
     "output_type": "stream",
     "text": [
      "Balance amount = 2\n"
     ]
    }
   ],
   "source": [
    "amount=0\n",
    "two_deposit_threads(1000000)\n",
    "print(\"Balance amount = {}\".format(amount))"
   ]
  },
  {
   "cell_type": "code",
   "execution_count": 30,
   "id": "2ff7b39c-2400-4d2b-80db-892df225350e",
   "metadata": {},
   "outputs": [
    {
     "name": "stdout",
     "output_type": "stream",
     "text": [
      "First try:  True\n",
      "Second try:  True\n"
     ]
    }
   ],
   "source": [
    "lock = threading.RLock()\n",
    "\n",
    "print(\"First try: \", lock.acquire())\n",
    "print(\"Second try: \", lock.acquire())"
   ]
  },
  {
   "cell_type": "code",
   "execution_count": 31,
   "id": "ae8e4875-be0a-418b-ade6-d24c0ef8ec45",
   "metadata": {},
   "outputs": [],
   "source": [
    "data_one = 3\n",
    "data_two = 5\n",
    "\n",
    "def my_process(lock_one, lock_two):\n",
    "    \n",
    "    global data_one\n",
    "    global data_two\n",
    "    \n",
    "    lock_one.acquire()\n",
    "    print(threading.current_thread().name, \"incrementing data 1\")\n",
    "    data_one += 1\n",
    "    time.sleep(1)\n",
    "    \n",
    "    lock_two.acquire()\n",
    "    print(threading.current_thread().name,\"incrementing data 2\")\n",
    "    data_two += 1\n",
    "    time.sleep(1)\n",
    "    \n",
    "    lock_one.release()\n",
    "    lock_two.release()\n",
    "    \n",
    "    \n",
    "    "
   ]
  },
  {
   "cell_type": "code",
   "execution_count": 32,
   "id": "2cf57ad7-b274-4076-b910-057503a2a9a7",
   "metadata": {},
   "outputs": [],
   "source": [
    "lock_one = threading.Lock()\n",
    "lock_two = threading.Lock()"
   ]
  },
  {
   "cell_type": "code",
   "execution_count": 33,
   "id": "869274fc-1af1-4854-84ae-cbcb011d18e4",
   "metadata": {},
   "outputs": [
    {
     "name": "stdout",
     "output_type": "stream",
     "text": [
      "Thread-29Thread-30 incrementing data 1\n",
      " incrementing data 1\n"
     ]
    },
    {
     "ename": "KeyboardInterrupt",
     "evalue": "",
     "output_type": "error",
     "traceback": [
      "\u001b[0;31m---------------------------------------------------------------------------\u001b[0m",
      "\u001b[0;31mKeyboardInterrupt\u001b[0m                         Traceback (most recent call last)",
      "Input \u001b[0;32mIn [33]\u001b[0m, in \u001b[0;36m<cell line: 7>\u001b[0;34m()\u001b[0m\n\u001b[1;32m      4\u001b[0m t1\u001b[38;5;241m.\u001b[39mstart()\n\u001b[1;32m      5\u001b[0m t2\u001b[38;5;241m.\u001b[39mstart()\n\u001b[0;32m----> 7\u001b[0m \u001b[43mt1\u001b[49m\u001b[38;5;241;43m.\u001b[39;49m\u001b[43mjoin\u001b[49m\u001b[43m(\u001b[49m\u001b[43m)\u001b[49m\n\u001b[1;32m      8\u001b[0m t2\u001b[38;5;241m.\u001b[39mjoin()\n",
      "File \u001b[0;32m/opt/conda/envs/anaconda-2022.05-py39/lib/python3.9/threading.py:1053\u001b[0m, in \u001b[0;36mThread.join\u001b[0;34m(self, timeout)\u001b[0m\n\u001b[1;32m   1050\u001b[0m     \u001b[38;5;28;01mraise\u001b[39;00m \u001b[38;5;167;01mRuntimeError\u001b[39;00m(\u001b[38;5;124m\"\u001b[39m\u001b[38;5;124mcannot join current thread\u001b[39m\u001b[38;5;124m\"\u001b[39m)\n\u001b[1;32m   1052\u001b[0m \u001b[38;5;28;01mif\u001b[39;00m timeout \u001b[38;5;129;01mis\u001b[39;00m \u001b[38;5;28;01mNone\u001b[39;00m:\n\u001b[0;32m-> 1053\u001b[0m     \u001b[38;5;28;43mself\u001b[39;49m\u001b[38;5;241;43m.\u001b[39;49m\u001b[43m_wait_for_tstate_lock\u001b[49m\u001b[43m(\u001b[49m\u001b[43m)\u001b[49m\n\u001b[1;32m   1054\u001b[0m \u001b[38;5;28;01melse\u001b[39;00m:\n\u001b[1;32m   1055\u001b[0m     \u001b[38;5;66;03m# the behavior of a negative timeout isn't documented, but\u001b[39;00m\n\u001b[1;32m   1056\u001b[0m     \u001b[38;5;66;03m# historically .join(timeout=x) for x<0 has acted as if timeout=0\u001b[39;00m\n\u001b[1;32m   1057\u001b[0m     \u001b[38;5;28mself\u001b[39m\u001b[38;5;241m.\u001b[39m_wait_for_tstate_lock(timeout\u001b[38;5;241m=\u001b[39m\u001b[38;5;28mmax\u001b[39m(timeout, \u001b[38;5;241m0\u001b[39m))\n",
      "File \u001b[0;32m/opt/conda/envs/anaconda-2022.05-py39/lib/python3.9/threading.py:1073\u001b[0m, in \u001b[0;36mThread._wait_for_tstate_lock\u001b[0;34m(self, block, timeout)\u001b[0m\n\u001b[1;32m   1070\u001b[0m     \u001b[38;5;28;01mreturn\u001b[39;00m\n\u001b[1;32m   1072\u001b[0m \u001b[38;5;28;01mtry\u001b[39;00m:\n\u001b[0;32m-> 1073\u001b[0m     \u001b[38;5;28;01mif\u001b[39;00m \u001b[43mlock\u001b[49m\u001b[38;5;241;43m.\u001b[39;49m\u001b[43macquire\u001b[49m\u001b[43m(\u001b[49m\u001b[43mblock\u001b[49m\u001b[43m,\u001b[49m\u001b[43m \u001b[49m\u001b[43mtimeout\u001b[49m\u001b[43m)\u001b[49m:\n\u001b[1;32m   1074\u001b[0m         lock\u001b[38;5;241m.\u001b[39mrelease()\n\u001b[1;32m   1075\u001b[0m         \u001b[38;5;28mself\u001b[39m\u001b[38;5;241m.\u001b[39m_stop()\n",
      "\u001b[0;31mKeyboardInterrupt\u001b[0m: "
     ]
    }
   ],
   "source": [
    "t1 = threading.Thread(target=my_process, args=(lock_one,lock_two))\n",
    "t2 = threading.Thread(target=my_process, args=(lock_two,lock_one))\n",
    "\n",
    "t1.start()\n",
    "t2.start()\n",
    "\n",
    "t1.join()\n",
    "t2.join()"
   ]
  },
  {
   "cell_type": "code",
   "execution_count": 34,
   "id": "1271e42a-56be-405c-8d51-75fed1e11c97",
   "metadata": {},
   "outputs": [],
   "source": [
    "data_one = 3\n",
    "data_two = 5\n",
    "\n",
    "lock_one = threading.Lock()\n",
    "lock_two = threading.Lock()"
   ]
  },
  {
   "cell_type": "code",
   "execution_count": 35,
   "id": "88973bbf-e098-41f8-a0dd-c87b4dc760e3",
   "metadata": {},
   "outputs": [
    {
     "name": "stdout",
     "output_type": "stream",
     "text": [
      "Thread-31 incrementing data 1\n",
      "Thread-31 incrementing data 2\n",
      "Thread-32 incrementing data 1\n",
      "Thread-32 incrementing data 2\n"
     ]
    }
   ],
   "source": [
    "t1 = threading.Thread(target=my_process, args=(lock_one,lock_two))\n",
    "t2 = threading.Thread(target=my_process, args=(lock_one,lock_two))\n",
    "\n",
    "t1.start()\n",
    "t2.start()\n",
    "\n",
    "t1.join()\n",
    "t2.join()\n",
    "    "
   ]
  },
  {
   "cell_type": "code",
   "execution_count": 36,
   "id": "d17ee82a-5da3-480f-9a8d-4d8ffe79f60b",
   "metadata": {},
   "outputs": [],
   "source": [
    "def my_process(lock_one, lock_two):\n",
    "    \n",
    "    global data_one\n",
    "    global data_two\n",
    "    \n",
    "    lock_one.acquire()\n",
    "    print(threading.current_thread().name, \"incrementing data 1\")\n",
    "    data_one += 1\n",
    "    time.sleep(1)\n",
    "    \n",
    "    lock_one.release()\n",
    "    \n",
    "    lock_two.acquire()\n",
    "    print(threading.current_thread().name,\"incrementing data 2\")\n",
    "    data_two += 1\n",
    "    time.sleep(1)\n",
    "    \n",
    "    lock_two.release()"
   ]
  },
  {
   "cell_type": "code",
   "execution_count": 37,
   "id": "a3c51967-24f2-4bc8-82bd-3e20a83046c4",
   "metadata": {},
   "outputs": [],
   "source": [
    "data_one = 3\n",
    "data_two = 5\n",
    "\n",
    "lock_one = threading.Lock()\n",
    "lock_two = threading.Lock()"
   ]
  },
  {
   "cell_type": "code",
   "execution_count": 38,
   "id": "20305ddf-1584-470b-81cd-731114330374",
   "metadata": {},
   "outputs": [
    {
     "name": "stdout",
     "output_type": "stream",
     "text": [
      "Thread-33 incrementing data 1\n",
      "Thread-34 incrementing data 1\n",
      "Thread-34Thread-33 incrementing data 2\n",
      " incrementing data 2\n"
     ]
    }
   ],
   "source": [
    "t1 = threading.Thread(target=my_process, args=(lock_one,lock_two))\n",
    "t2 = threading.Thread(target=my_process, args=(lock_two,lock_one))\n",
    "\n",
    "t1.start()\n",
    "t2.start()\n",
    "\n",
    "t1.join()\n",
    "t2.join()\n",
    "    "
   ]
  },
  {
   "cell_type": "code",
   "execution_count": 39,
   "id": "d70056eb-63f6-4ca1-9488-ae85444d5e3b",
   "metadata": {},
   "outputs": [
    {
     "name": "stdout",
     "output_type": "stream",
     "text": [
      "5\n",
      "7\n"
     ]
    }
   ],
   "source": [
    "print(data_one)\n",
    "print(data_two)"
   ]
  },
  {
   "cell_type": "code",
   "execution_count": 40,
   "id": "fa7b007c-545f-452b-9c6a-c85ec9a1afd5",
   "metadata": {},
   "outputs": [],
   "source": [
    "semaphore = threading.Semaphore()"
   ]
  },
  {
   "cell_type": "code",
   "execution_count": 41,
   "id": "4f4dffb6-e5f6-4004-956b-f4a416ec3f66",
   "metadata": {},
   "outputs": [],
   "source": [
    "def my_func2():\n",
    "    \n",
    "    semaphore.acquire()\n",
    "    time.sleep(0.1)\n",
    "    print(threading.current_thread().name,\"acquired the semaphore\")\n",
    "    print(\"Semaphore value after acquire\", semaphore._value)\n",
    "    \n",
    "    time.sleep(5)\n",
    "    semaphore.release()\n",
    "    print(\"Semaphore val after release\", semaphore._value)\n",
    "    \n",
    "\n",
    "    \n",
    "    "
   ]
  },
  {
   "cell_type": "code",
   "execution_count": 42,
   "id": "d1105fe6-e219-4c3b-a18c-f404aa3fedd3",
   "metadata": {},
   "outputs": [
    {
     "name": "stdout",
     "output_type": "stream",
     "text": [
      "Initial Semaphore val 1\n"
     ]
    }
   ],
   "source": [
    "t1 = threading.Thread(target=my_func2)\n",
    "t2 = threading.Thread(target=my_func2)\n",
    "\n",
    "print(\"Initial Semaphore val\", semaphore._value)"
   ]
  },
  {
   "cell_type": "code",
   "execution_count": 43,
   "id": "3fd002de-91b9-4b75-a430-9891f0583f9d",
   "metadata": {},
   "outputs": [
    {
     "name": "stdout",
     "output_type": "stream",
     "text": [
      "Thread-35 acquired the semaphore\n",
      "Semaphore value after acquire 0\n",
      "Semaphore val after release 1\n",
      "Thread-36 acquired the semaphore\n",
      "Semaphore value after acquire 0\n",
      "Semaphore val after release 1\n"
     ]
    }
   ],
   "source": [
    "start_time=time.time()\n",
    "\n",
    "t1.start()\n",
    "t2.start()\n",
    "\n",
    "t1.join()\n",
    "t2.join()\n",
    "\n",
    "end_time = time.time()\n"
   ]
  },
  {
   "cell_type": "code",
   "execution_count": 44,
   "id": "99336234-2b39-4d58-ad4f-4419dff83e1b",
   "metadata": {},
   "outputs": [
    {
     "name": "stdout",
     "output_type": "stream",
     "text": [
      "total:  10.20809555053711\n"
     ]
    }
   ],
   "source": [
    "print(\"total: \", end_time - start_time)"
   ]
  },
  {
   "cell_type": "code",
   "execution_count": 45,
   "id": "629a2c60-0a6d-4ac8-8eaf-d8f4017c1b8b",
   "metadata": {},
   "outputs": [],
   "source": [
    "semaphore = threading.Semaphore(value=3)"
   ]
  },
  {
   "cell_type": "code",
   "execution_count": 46,
   "id": "f5f8c2e4-4dcd-4a64-8aac-d70b33673b3b",
   "metadata": {},
   "outputs": [],
   "source": [
    "t1 = threading.Thread(target=my_func2)\n",
    "t2 = threading.Thread(target=my_func2)\n",
    "t3 = threading.Thread(target=my_func2)\n",
    "t4 = threading.Thread(target=my_func2)\n",
    "t5 = threading.Thread(target=my_func2)\n",
    "t6 = threading.Thread(target=my_func2)\n",
    "t7 = threading.Thread(target=my_func2)\n",
    "t8 = threading.Thread(target=my_func2)"
   ]
  },
  {
   "cell_type": "code",
   "execution_count": 47,
   "id": "410e9ae8-09d0-46cc-a5fc-763f8e9d9524",
   "metadata": {},
   "outputs": [
    {
     "name": "stdout",
     "output_type": "stream",
     "text": [
      "Thread-37Thread-38Thread-39 acquired the semaphore\n",
      "Semaphore value after acquire 0\n",
      "  acquired the semaphoreacquired the semaphore\n",
      "Semaphore value after acquire 0\n",
      "\n",
      "Semaphore value after acquire 0\n",
      "Semaphore val after releaseSemaphore val after releaseSemaphore val after release 1\n",
      " 3\n",
      " 2\n",
      "Thread-40 Thread-42 acquired the semaphore\n",
      "Semaphore value after acquire 0\n",
      "Thread-41acquired the semaphore\n",
      "Semaphore value after acquire 0\n",
      " acquired the semaphore\n",
      "Semaphore value after acquire 0\n",
      "Semaphore val after release Semaphore val after release1 1\n",
      "\n",
      "Semaphore val after release 1\n",
      "Thread-43 acquired the semaphore\n",
      "Semaphore value after acquire 1\n",
      "Thread-44 acquired the semaphore\n",
      "Semaphore value after acquire 1\n",
      "Semaphore val after release 2\n",
      "Semaphore val after release 3\n"
     ]
    }
   ],
   "source": [
    "start_time= time.time()\n",
    "\n",
    "t1.start()\n",
    "t2.start()\n",
    "t3.start()\n",
    "t4.start()\n",
    "t5.start()\n",
    "t6.start()\n",
    "t7.start()\n",
    "t8.start()\n",
    "\n",
    "t1.join()\n",
    "t2.join()\n",
    "t3.join()\n",
    "t4.join()\n",
    "t5.join()\n",
    "t6.join()\n",
    "t7.join()\n",
    "t8.join()\n",
    "\n",
    "end_time = time.time()"
   ]
  },
  {
   "cell_type": "code",
   "execution_count": 48,
   "id": "bfe7d744-dd2e-4cd8-b0d8-1aa15ac85b31",
   "metadata": {},
   "outputs": [
    {
     "name": "stdout",
     "output_type": "stream",
     "text": [
      "total:  15.31865930557251\n"
     ]
    }
   ],
   "source": [
    "print(\"total: \",end_time -start_time)"
   ]
  },
  {
   "cell_type": "code",
   "execution_count": 49,
   "id": "4cfe654c-3736-4b2e-9ae5-cf1400424570",
   "metadata": {},
   "outputs": [],
   "source": [
    "semaphore = threading.Semaphore(0)"
   ]
  },
  {
   "cell_type": "code",
   "execution_count": 50,
   "id": "29f0a4e7-6331-4e4e-86fc-657a908e6c14",
   "metadata": {},
   "outputs": [],
   "source": [
    "order_num = 0"
   ]
  },
  {
   "cell_type": "code",
   "execution_count": 51,
   "id": "8d9522be-1b1a-40aa-abd2-7f90daf4c4d4",
   "metadata": {},
   "outputs": [],
   "source": [
    "def place_order():\n",
    "    print(\"Order placed.\")\n",
    "    semaphore.acquire()\n",
    "    print(\"Customer order number is:\", order_num)"
   ]
  },
  {
   "cell_type": "code",
   "execution_count": 52,
   "id": "9c99122b-1b2d-4bfc-90ef-22d476d16652",
   "metadata": {},
   "outputs": [],
   "source": [
    "def prepare_order():\n",
    "    \n",
    "    global order_num\n",
    "    time.sleep(3)\n",
    "    order_num +=1\n",
    "    \n",
    "    print(\"preparing order number\", order_num)\n",
    "    semaphore.release()\n",
    "    "
   ]
  },
  {
   "cell_type": "code",
   "execution_count": 53,
   "id": "1f85c751-eceb-4bff-972c-79fc890a0cdf",
   "metadata": {},
   "outputs": [
    {
     "name": "stdout",
     "output_type": "stream",
     "text": [
      "Order placed.\n",
      "preparing order number 1\n",
      "Customer order number is: 1\n",
      "Order placed.\n",
      "preparing order number 2\n",
      "Customer order number is: 2\n",
      "Order placed.\n",
      "preparing order number 3\n",
      "Customer order number is: 3\n",
      "Order placed.\n",
      "preparing order number 4\n",
      "Customer order number is: 4\n",
      "Order placed.\n"
     ]
    },
    {
     "ename": "KeyboardInterrupt",
     "evalue": "",
     "output_type": "error",
     "traceback": [
      "\u001b[0;31m---------------------------------------------------------------------------\u001b[0m",
      "\u001b[0;31mKeyboardInterrupt\u001b[0m                         Traceback (most recent call last)",
      "Input \u001b[0;32mIn [53]\u001b[0m, in \u001b[0;36m<cell line: 1>\u001b[0;34m()\u001b[0m\n\u001b[1;32m      5\u001b[0m     t1\u001b[38;5;241m.\u001b[39mstart()\n\u001b[1;32m      6\u001b[0m     t2\u001b[38;5;241m.\u001b[39mstart()\n\u001b[0;32m----> 8\u001b[0m     \u001b[43mt1\u001b[49m\u001b[38;5;241;43m.\u001b[39;49m\u001b[43mjoin\u001b[49m\u001b[43m(\u001b[49m\u001b[43m)\u001b[49m\n\u001b[1;32m      9\u001b[0m     t2\u001b[38;5;241m.\u001b[39mjoin()\n\u001b[1;32m     11\u001b[0m \u001b[38;5;28mprint\u001b[39m(\u001b[38;5;124m\"\u001b[39m\u001b[38;5;124mprogram done\u001b[39m\u001b[38;5;124m\"\u001b[39m)\n",
      "File \u001b[0;32m/opt/conda/envs/anaconda-2022.05-py39/lib/python3.9/threading.py:1053\u001b[0m, in \u001b[0;36mThread.join\u001b[0;34m(self, timeout)\u001b[0m\n\u001b[1;32m   1050\u001b[0m     \u001b[38;5;28;01mraise\u001b[39;00m \u001b[38;5;167;01mRuntimeError\u001b[39;00m(\u001b[38;5;124m\"\u001b[39m\u001b[38;5;124mcannot join current thread\u001b[39m\u001b[38;5;124m\"\u001b[39m)\n\u001b[1;32m   1052\u001b[0m \u001b[38;5;28;01mif\u001b[39;00m timeout \u001b[38;5;129;01mis\u001b[39;00m \u001b[38;5;28;01mNone\u001b[39;00m:\n\u001b[0;32m-> 1053\u001b[0m     \u001b[38;5;28;43mself\u001b[39;49m\u001b[38;5;241;43m.\u001b[39;49m\u001b[43m_wait_for_tstate_lock\u001b[49m\u001b[43m(\u001b[49m\u001b[43m)\u001b[49m\n\u001b[1;32m   1054\u001b[0m \u001b[38;5;28;01melse\u001b[39;00m:\n\u001b[1;32m   1055\u001b[0m     \u001b[38;5;66;03m# the behavior of a negative timeout isn't documented, but\u001b[39;00m\n\u001b[1;32m   1056\u001b[0m     \u001b[38;5;66;03m# historically .join(timeout=x) for x<0 has acted as if timeout=0\u001b[39;00m\n\u001b[1;32m   1057\u001b[0m     \u001b[38;5;28mself\u001b[39m\u001b[38;5;241m.\u001b[39m_wait_for_tstate_lock(timeout\u001b[38;5;241m=\u001b[39m\u001b[38;5;28mmax\u001b[39m(timeout, \u001b[38;5;241m0\u001b[39m))\n",
      "File \u001b[0;32m/opt/conda/envs/anaconda-2022.05-py39/lib/python3.9/threading.py:1073\u001b[0m, in \u001b[0;36mThread._wait_for_tstate_lock\u001b[0;34m(self, block, timeout)\u001b[0m\n\u001b[1;32m   1070\u001b[0m     \u001b[38;5;28;01mreturn\u001b[39;00m\n\u001b[1;32m   1072\u001b[0m \u001b[38;5;28;01mtry\u001b[39;00m:\n\u001b[0;32m-> 1073\u001b[0m     \u001b[38;5;28;01mif\u001b[39;00m \u001b[43mlock\u001b[49m\u001b[38;5;241;43m.\u001b[39;49m\u001b[43macquire\u001b[49m\u001b[43m(\u001b[49m\u001b[43mblock\u001b[49m\u001b[43m,\u001b[49m\u001b[43m \u001b[49m\u001b[43mtimeout\u001b[49m\u001b[43m)\u001b[49m:\n\u001b[1;32m   1074\u001b[0m         lock\u001b[38;5;241m.\u001b[39mrelease()\n\u001b[1;32m   1075\u001b[0m         \u001b[38;5;28mself\u001b[39m\u001b[38;5;241m.\u001b[39m_stop()\n",
      "\u001b[0;31mKeyboardInterrupt\u001b[0m: "
     ]
    }
   ],
   "source": [
    "for i in range(0,6):\n",
    "    t1 = threading.Thread(target=place_order)\n",
    "    t2 = threading.Thread(target=prepare_order)\n",
    "    \n",
    "    t1.start()\n",
    "    t2.start()\n",
    "    \n",
    "    t1.join()\n",
    "    t2.join()\n",
    "    \n",
    "print(\"program done\")"
   ]
  },
  {
   "cell_type": "code",
   "execution_count": 54,
   "id": "25185342-b3b7-42f8-9f5d-1eb92781cc13",
   "metadata": {},
   "outputs": [
    {
     "data": {
      "text/plain": [
       "1"
      ]
     },
     "execution_count": 54,
     "metadata": {},
     "output_type": "execute_result"
    }
   ],
   "source": [
    "semaphore = threading.Semaphore()\n",
    "semaphore._value"
   ]
  },
  {
   "cell_type": "code",
   "execution_count": 55,
   "id": "09381ac1-bbdd-4e6b-b41e-05a06e887946",
   "metadata": {},
   "outputs": [
    {
     "data": {
      "text/plain": [
       "0"
      ]
     },
     "execution_count": 55,
     "metadata": {},
     "output_type": "execute_result"
    }
   ],
   "source": [
    "semaphore.acquire()\n",
    "semaphore._value"
   ]
  },
  {
   "cell_type": "code",
   "execution_count": 56,
   "id": "f4753825-7eba-487a-9706-d229f473b51d",
   "metadata": {},
   "outputs": [
    {
     "data": {
      "text/plain": [
       "1"
      ]
     },
     "execution_count": 56,
     "metadata": {},
     "output_type": "execute_result"
    }
   ],
   "source": [
    "semaphore.release()\n",
    "semaphore._value"
   ]
  },
  {
   "cell_type": "code",
   "execution_count": 57,
   "id": "153e5dc5-e138-40a1-97a9-3ff3ed3322f4",
   "metadata": {},
   "outputs": [
    {
     "data": {
      "text/plain": [
       "2"
      ]
     },
     "execution_count": 57,
     "metadata": {},
     "output_type": "execute_result"
    }
   ],
   "source": [
    "semaphore.release()\n",
    "semaphore._value"
   ]
  },
  {
   "cell_type": "code",
   "execution_count": 58,
   "id": "0c85af1c-15d7-4c59-8b39-d92e8a9c6562",
   "metadata": {},
   "outputs": [
    {
     "data": {
      "text/plain": [
       "5"
      ]
     },
     "execution_count": 58,
     "metadata": {},
     "output_type": "execute_result"
    }
   ],
   "source": [
    "semaphore.release()\n",
    "semaphore.release()\n",
    "semaphore.release()\n",
    "\n",
    "semaphore._value"
   ]
  },
  {
   "cell_type": "code",
   "execution_count": 59,
   "id": "52212ddb-4575-4e56-96e1-aa4a88caad4e",
   "metadata": {},
   "outputs": [
    {
     "data": {
      "text/plain": [
       "1"
      ]
     },
     "execution_count": 59,
     "metadata": {},
     "output_type": "execute_result"
    }
   ],
   "source": [
    "semaphore = threading.BoundedSemaphore(1)\n",
    "semaphore._value"
   ]
  },
  {
   "cell_type": "code",
   "execution_count": 60,
   "id": "34a0d580-bfdd-45b2-996c-ed6e8af61096",
   "metadata": {},
   "outputs": [
    {
     "data": {
      "text/plain": [
       "0"
      ]
     },
     "execution_count": 60,
     "metadata": {},
     "output_type": "execute_result"
    }
   ],
   "source": [
    "semaphore.acquire()\n",
    "semaphore._value"
   ]
  },
  {
   "cell_type": "code",
   "execution_count": 61,
   "id": "8d27cf44-b4d3-4f23-a895-c89cacb1c3d7",
   "metadata": {},
   "outputs": [
    {
     "data": {
      "text/plain": [
       "1"
      ]
     },
     "execution_count": 61,
     "metadata": {},
     "output_type": "execute_result"
    }
   ],
   "source": [
    "semaphore.release()\n",
    "semaphore._value"
   ]
  },
  {
   "cell_type": "code",
   "execution_count": 62,
   "id": "c44a8009-5612-49d1-b611-a25a9189e4d8",
   "metadata": {},
   "outputs": [
    {
     "ename": "ValueError",
     "evalue": "Semaphore released too many times",
     "output_type": "error",
     "traceback": [
      "\u001b[0;31m---------------------------------------------------------------------------\u001b[0m",
      "\u001b[0;31mValueError\u001b[0m                                Traceback (most recent call last)",
      "Input \u001b[0;32mIn [62]\u001b[0m, in \u001b[0;36m<cell line: 1>\u001b[0;34m()\u001b[0m\n\u001b[0;32m----> 1\u001b[0m \u001b[43msemaphore\u001b[49m\u001b[38;5;241;43m.\u001b[39;49m\u001b[43mrelease\u001b[49m\u001b[43m(\u001b[49m\u001b[43m)\u001b[49m\n\u001b[1;32m      2\u001b[0m semaphore\u001b[38;5;241m.\u001b[39m_value\n",
      "File \u001b[0;32m/opt/conda/envs/anaconda-2022.05-py39/lib/python3.9/threading.py:504\u001b[0m, in \u001b[0;36mBoundedSemaphore.release\u001b[0;34m(self, n)\u001b[0m\n\u001b[1;32m    502\u001b[0m \u001b[38;5;28;01mwith\u001b[39;00m \u001b[38;5;28mself\u001b[39m\u001b[38;5;241m.\u001b[39m_cond:\n\u001b[1;32m    503\u001b[0m     \u001b[38;5;28;01mif\u001b[39;00m \u001b[38;5;28mself\u001b[39m\u001b[38;5;241m.\u001b[39m_value \u001b[38;5;241m+\u001b[39m n \u001b[38;5;241m>\u001b[39m \u001b[38;5;28mself\u001b[39m\u001b[38;5;241m.\u001b[39m_initial_value:\n\u001b[0;32m--> 504\u001b[0m         \u001b[38;5;28;01mraise\u001b[39;00m \u001b[38;5;167;01mValueError\u001b[39;00m(\u001b[38;5;124m\"\u001b[39m\u001b[38;5;124mSemaphore released too many times\u001b[39m\u001b[38;5;124m\"\u001b[39m)\n\u001b[1;32m    505\u001b[0m     \u001b[38;5;28mself\u001b[39m\u001b[38;5;241m.\u001b[39m_value \u001b[38;5;241m+\u001b[39m\u001b[38;5;241m=\u001b[39m n\n\u001b[1;32m    506\u001b[0m     \u001b[38;5;28;01mfor\u001b[39;00m i \u001b[38;5;129;01min\u001b[39;00m \u001b[38;5;28mrange\u001b[39m(n):\n",
      "\u001b[0;31mValueError\u001b[0m: Semaphore released too many times"
     ]
    }
   ],
   "source": [
    "semaphore.release()\n",
    "semaphore._value"
   ]
  },
  {
   "cell_type": "code",
   "execution_count": 63,
   "id": "8dc7edb8-50d7-4204-ac70-d15312f53a5f",
   "metadata": {},
   "outputs": [],
   "source": [
    "event = threading.Event()"
   ]
  },
  {
   "cell_type": "code",
   "execution_count": 64,
   "id": "8bf50ce5-caf0-46c5-a954-633b4901185b",
   "metadata": {},
   "outputs": [
    {
     "data": {
      "text/plain": [
       "['__class__',\n",
       " '__delattr__',\n",
       " '__dict__',\n",
       " '__dir__',\n",
       " '__doc__',\n",
       " '__eq__',\n",
       " '__format__',\n",
       " '__ge__',\n",
       " '__getattribute__',\n",
       " '__gt__',\n",
       " '__hash__',\n",
       " '__init__',\n",
       " '__init_subclass__',\n",
       " '__le__',\n",
       " '__lt__',\n",
       " '__module__',\n",
       " '__ne__',\n",
       " '__new__',\n",
       " '__reduce__',\n",
       " '__reduce_ex__',\n",
       " '__repr__',\n",
       " '__setattr__',\n",
       " '__sizeof__',\n",
       " '__str__',\n",
       " '__subclasshook__',\n",
       " '__weakref__',\n",
       " '_at_fork_reinit',\n",
       " '_cond',\n",
       " '_flag',\n",
       " 'clear',\n",
       " 'isSet',\n",
       " 'is_set',\n",
       " 'set',\n",
       " 'wait']"
      ]
     },
     "execution_count": 64,
     "metadata": {},
     "output_type": "execute_result"
    }
   ],
   "source": [
    "dir(event)"
   ]
  },
  {
   "cell_type": "code",
   "execution_count": 66,
   "id": "6376abc9-a568-49f5-83a6-3342f791bd5b",
   "metadata": {},
   "outputs": [
    {
     "name": "stdout",
     "output_type": "stream",
     "text": [
      "True\n",
      "True\n",
      "False\n"
     ]
    }
   ],
   "source": [
    "event.set()\n",
    "print(event.is_set())\n",
    "\n",
    "event.wait()\n",
    "print(event.is_set())\n",
    "\n",
    "event.clear()\n",
    "print(event.is_set())\n"
   ]
  },
  {
   "cell_type": "code",
   "execution_count": 67,
   "id": "a4c81a7c-1322-4483-a3e1-f8f2eaffa554",
   "metadata": {},
   "outputs": [
    {
     "name": "stdout",
     "output_type": "stream",
     "text": [
      "True\n",
      "False\n"
     ]
    },
    {
     "ename": "KeyboardInterrupt",
     "evalue": "",
     "output_type": "error",
     "traceback": [
      "\u001b[0;31m---------------------------------------------------------------------------\u001b[0m",
      "\u001b[0;31mKeyboardInterrupt\u001b[0m                         Traceback (most recent call last)",
      "Input \u001b[0;32mIn [67]\u001b[0m, in \u001b[0;36m<cell line: 7>\u001b[0;34m()\u001b[0m\n\u001b[1;32m      4\u001b[0m event\u001b[38;5;241m.\u001b[39mclear()\n\u001b[1;32m      5\u001b[0m \u001b[38;5;28mprint\u001b[39m(event\u001b[38;5;241m.\u001b[39mis_set())\n\u001b[0;32m----> 7\u001b[0m \u001b[43mevent\u001b[49m\u001b[38;5;241;43m.\u001b[39;49m\u001b[43mwait\u001b[49m\u001b[43m(\u001b[49m\u001b[43m)\u001b[49m\n\u001b[1;32m      8\u001b[0m \u001b[38;5;28mprint\u001b[39m(event\u001b[38;5;241m.\u001b[39mis_set())\n",
      "File \u001b[0;32m/opt/conda/envs/anaconda-2022.05-py39/lib/python3.9/threading.py:574\u001b[0m, in \u001b[0;36mEvent.wait\u001b[0;34m(self, timeout)\u001b[0m\n\u001b[1;32m    572\u001b[0m signaled \u001b[38;5;241m=\u001b[39m \u001b[38;5;28mself\u001b[39m\u001b[38;5;241m.\u001b[39m_flag\n\u001b[1;32m    573\u001b[0m \u001b[38;5;28;01mif\u001b[39;00m \u001b[38;5;129;01mnot\u001b[39;00m signaled:\n\u001b[0;32m--> 574\u001b[0m     signaled \u001b[38;5;241m=\u001b[39m \u001b[38;5;28;43mself\u001b[39;49m\u001b[38;5;241;43m.\u001b[39;49m\u001b[43m_cond\u001b[49m\u001b[38;5;241;43m.\u001b[39;49m\u001b[43mwait\u001b[49m\u001b[43m(\u001b[49m\u001b[43mtimeout\u001b[49m\u001b[43m)\u001b[49m\n\u001b[1;32m    575\u001b[0m \u001b[38;5;28;01mreturn\u001b[39;00m signaled\n",
      "File \u001b[0;32m/opt/conda/envs/anaconda-2022.05-py39/lib/python3.9/threading.py:312\u001b[0m, in \u001b[0;36mCondition.wait\u001b[0;34m(self, timeout)\u001b[0m\n\u001b[1;32m    310\u001b[0m \u001b[38;5;28;01mtry\u001b[39;00m:    \u001b[38;5;66;03m# restore state no matter what (e.g., KeyboardInterrupt)\u001b[39;00m\n\u001b[1;32m    311\u001b[0m     \u001b[38;5;28;01mif\u001b[39;00m timeout \u001b[38;5;129;01mis\u001b[39;00m \u001b[38;5;28;01mNone\u001b[39;00m:\n\u001b[0;32m--> 312\u001b[0m         \u001b[43mwaiter\u001b[49m\u001b[38;5;241;43m.\u001b[39;49m\u001b[43macquire\u001b[49m\u001b[43m(\u001b[49m\u001b[43m)\u001b[49m\n\u001b[1;32m    313\u001b[0m         gotit \u001b[38;5;241m=\u001b[39m \u001b[38;5;28;01mTrue\u001b[39;00m\n\u001b[1;32m    314\u001b[0m     \u001b[38;5;28;01melse\u001b[39;00m:\n",
      "\u001b[0;31mKeyboardInterrupt\u001b[0m: "
     ]
    }
   ],
   "source": [
    "event.set()\n",
    "print(event.is_set())\n",
    "\n",
    "event.clear()\n",
    "print(event.is_set())\n",
    "\n",
    "event.wait()\n",
    "print(event.is_set())\n"
   ]
  },
  {
   "cell_type": "code",
   "execution_count": 68,
   "id": "747d1a10-7856-4ad4-a619-609659a4c8da",
   "metadata": {},
   "outputs": [],
   "source": [
    "meeting = threading.Event()\n"
   ]
  },
  {
   "cell_type": "code",
   "execution_count": 69,
   "id": "ebcdb22d-78a5-4564-8704-a009b45941b1",
   "metadata": {},
   "outputs": [],
   "source": [
    "def hold_meeting():\n",
    "    \n",
    "    meeting.set()\n",
    "    print('Event set.Meeting started')\n",
    "    \n",
    "    time.sleep(3)\n",
    "    \n",
    "    print('Meeting done.')\n",
    "    meeting.clear()"
   ]
  },
  {
   "cell_type": "code",
   "execution_count": 70,
   "id": "573157d4-ae2b-430d-8dfa-6d7dd67b5492",
   "metadata": {},
   "outputs": [],
   "source": [
    "def enter_conference():\n",
    "    \n",
    "    time.sleep(1)\n",
    "    meeting.wait()\n",
    "    \n",
    "    \n",
    "    while meeting.is_set():\n",
    "        \n",
    "        print(\"Waiting for meeting to finish\")\n",
    "        time.sleep(0.5)\n",
    "        \n",
    "    print(\"Meeting done. Entering room now\")\n",
    "    \n",
    "    "
   ]
  },
  {
   "cell_type": "code",
   "execution_count": 71,
   "id": "cf3a7fb9-4051-47ff-9a6b-93bdf6a07c73",
   "metadata": {},
   "outputs": [],
   "source": [
    "t1 = threading.Thread(target=hold_meeting)\n",
    "t2 = threading.Thread(target= enter_conference)"
   ]
  },
  {
   "cell_type": "code",
   "execution_count": 72,
   "id": "eefd5f3d-a8f1-4c64-ae5f-32aea625389a",
   "metadata": {},
   "outputs": [
    {
     "name": "stdout",
     "output_type": "stream",
     "text": [
      "Event set.Meeting started\n",
      "Waiting for meeting to finish\n",
      "Waiting for meeting to finish\n",
      "Waiting for meeting to finish\n",
      "Waiting for meeting to finish\n",
      "Meeting done.\n",
      "Meeting done. Entering room now\n"
     ]
    }
   ],
   "source": [
    "t1.start()\n",
    "t2.start()\n",
    "\n",
    "t1.join()\n",
    "t2.join()"
   ]
  },
  {
   "cell_type": "code",
   "execution_count": 73,
   "id": "6638b632-0dd8-4673-9454-a210f9a57033",
   "metadata": {},
   "outputs": [],
   "source": [
    "import random\n"
   ]
  },
  {
   "cell_type": "code",
   "execution_count": 74,
   "id": "0953fa03-9b54-4a40-8901-bdde449e560b",
   "metadata": {},
   "outputs": [],
   "source": [
    "condition = threading.Condition()"
   ]
  },
  {
   "cell_type": "code",
   "execution_count": 75,
   "id": "1d66fd98-5fff-4543-908a-20357725b485",
   "metadata": {},
   "outputs": [],
   "source": [
    "container = []\n",
    "\n",
    "counter = 1\n",
    "\n",
    "more_to_come = True"
   ]
  },
  {
   "cell_type": "code",
   "execution_count": 76,
   "id": "a6d3766e-1f4a-41c0-8ca9-236d071d1c73",
   "metadata": {},
   "outputs": [],
   "source": [
    "def produce():\n",
    "    \n",
    "    global container \n",
    "    global counter\n",
    "    global more_to_come\n",
    "    \n",
    "    for i in range(5):\n",
    "        \n",
    "        time.sleep(random.randrange(2,5))\n",
    "        condition.acquire()\n",
    "        \n",
    "        item = \"News item #\" +  str(counter)\n",
    "        \n",
    "        container.append(item)\n",
    "        counter +=1\n",
    "        \n",
    "        print(\"\\nProduced:\",item)\n",
    "        condition.notify_all()\n",
    "        \n",
    "        condition.release()\n",
    "        \n",
    "    more_to_come = False\n",
    "        \n",
    "        "
   ]
  },
  {
   "cell_type": "code",
   "execution_count": 77,
   "id": "467da915-4231-476a-bda1-b2e8f5f1217d",
   "metadata": {},
   "outputs": [],
   "source": [
    "def consume():\n",
    "    \n",
    "    global more_to_come\n",
    "    \n",
    "    while(more_to_come):\n",
    "        \n",
    "        condition.acquire()\n",
    "        condition.wait()\n",
    "        \n",
    "        time.sleep(random.random())\n",
    "        print(threading.current_thread().getName(),\" acquired: \",container[-1])\n",
    "        \n",
    "        condition.release()"
   ]
  },
  {
   "cell_type": "code",
   "execution_count": 78,
   "id": "278cadd3-569e-45c6-995d-48c07e270286",
   "metadata": {},
   "outputs": [],
   "source": [
    "producer_thread = threading.Thread(target=produce)\n",
    "consumer_one_thread = threading.Thread(target=consume, name=\"News site one\",)\n",
    "consumer_two_thread = threading.Thread(target=consume, name=\"News site two\",)\n",
    "consumer_three_thread = threading.Thread(target=consume, name=\"News site three\",)\n"
   ]
  },
  {
   "cell_type": "code",
   "execution_count": 79,
   "id": "c10d2933-9874-4809-82ce-6d21dcf8296c",
   "metadata": {},
   "outputs": [
    {
     "name": "stdout",
     "output_type": "stream",
     "text": [
      "\n",
      "Produced: News item #1\n",
      "News site two  acquired:  News item #1\n",
      "News site three  acquired:  News item #1\n",
      "News site one  acquired:  News item #1\n",
      "\n",
      "Produced: News item #2\n",
      "News site two  acquired:  News item #2\n",
      "News site three  acquired:  News item #2\n",
      "News site one  acquired:  News item #2\n",
      "\n",
      "Produced: News item #3\n",
      "News site two  acquired:  News item #3\n",
      "News site three  acquired:  News item #3\n",
      "News site one  acquired:  News item #3\n",
      "\n",
      "Produced: News item #4\n",
      "News site two  acquired:  News item #4\n",
      "News site three  acquired:  News item #4\n",
      "News site one  acquired:  News item #4\n",
      "\n",
      "Produced: News item #5\n",
      "News site two  acquired:  News item #5\n",
      "News site one  acquired:  News item #5\n",
      "News site three  acquired:  News item #5\n",
      "Done\n"
     ]
    }
   ],
   "source": [
    "threads = [ producer_thread,\n",
    "           consumer_one_thread,\n",
    "           consumer_two_thread,\n",
    "           consumer_three_thread,]\n",
    "\n",
    "for t in threads:\n",
    "    t.start()\n",
    "    \n",
    "for t in threads:\n",
    "    t.join()\n",
    "    \n",
    "time.sleep(1)\n",
    "print(\"Done\")"
   ]
  },
  {
   "cell_type": "code",
   "execution_count": null,
   "id": "57035bf2-bb88-454f-85ad-2f596f55dd15",
   "metadata": {},
   "outputs": [],
   "source": []
  },
  {
   "cell_type": "code",
   "execution_count": null,
   "id": "a0d032f5-18b1-4659-9fbb-fc93e5ff4c4c",
   "metadata": {},
   "outputs": [],
   "source": []
  },
  {
   "cell_type": "code",
   "execution_count": null,
   "id": "8c87b6dd-8cc4-4e59-beed-a18535bcb1b0",
   "metadata": {},
   "outputs": [],
   "source": []
  },
  {
   "cell_type": "code",
   "execution_count": null,
   "id": "3de2bd65-4b1d-414f-88ce-9f9f670832be",
   "metadata": {},
   "outputs": [],
   "source": []
  },
  {
   "cell_type": "code",
   "execution_count": null,
   "id": "5dda856e-fbfa-44e4-8ad0-17e256f27816",
   "metadata": {},
   "outputs": [],
   "source": []
  },
  {
   "cell_type": "code",
   "execution_count": null,
   "id": "88087573-69b9-42e3-b9e9-f54f2d3458a5",
   "metadata": {},
   "outputs": [],
   "source": []
  },
  {
   "cell_type": "code",
   "execution_count": null,
   "id": "1fe3fffd-ccc3-429d-b61e-6891e0a6a214",
   "metadata": {},
   "outputs": [],
   "source": []
  },
  {
   "cell_type": "code",
   "execution_count": null,
   "id": "d2141757-1550-4351-b554-4cf011ce4eba",
   "metadata": {},
   "outputs": [],
   "source": []
  },
  {
   "cell_type": "code",
   "execution_count": null,
   "id": "0e6ff23c-9ca9-4bb5-89de-26862486ec6d",
   "metadata": {},
   "outputs": [],
   "source": []
  },
  {
   "cell_type": "code",
   "execution_count": null,
   "id": "ff58bc1f-b218-4947-a106-37d95bac7494",
   "metadata": {},
   "outputs": [],
   "source": []
  },
  {
   "cell_type": "code",
   "execution_count": null,
   "id": "80c604d4-47ab-4b74-93f6-024fc08f55f7",
   "metadata": {},
   "outputs": [],
   "source": []
  },
  {
   "cell_type": "code",
   "execution_count": null,
   "id": "df2b6b8e-6305-4fc1-b273-d91054d52edc",
   "metadata": {},
   "outputs": [],
   "source": []
  },
  {
   "cell_type": "code",
   "execution_count": null,
   "id": "833e49ab-e3c4-4857-910c-747e7d70d9da",
   "metadata": {},
   "outputs": [],
   "source": []
  },
  {
   "cell_type": "code",
   "execution_count": null,
   "id": "27c931a1-9012-4bd6-8a92-beb05b52b4b7",
   "metadata": {},
   "outputs": [],
   "source": []
  },
  {
   "cell_type": "code",
   "execution_count": null,
   "id": "a717f9fd-7c86-4341-b641-cb7e47bf7112",
   "metadata": {},
   "outputs": [],
   "source": []
  },
  {
   "cell_type": "code",
   "execution_count": null,
   "id": "8a50b12b-86fe-4163-961a-4525c0010395",
   "metadata": {},
   "outputs": [],
   "source": []
  }
 ],
 "metadata": {
  "kernelspec": {
   "display_name": "anaconda-2022.05-py39",
   "language": "python",
   "name": "conda-env-anaconda-2022.05-py39-py"
  },
  "language_info": {
   "codemirror_mode": {
    "name": "ipython",
    "version": 3
   },
   "file_extension": ".py",
   "mimetype": "text/x-python",
   "name": "python",
   "nbconvert_exporter": "python",
   "pygments_lexer": "ipython3",
   "version": "3.9.12"
  }
 },
 "nbformat": 4,
 "nbformat_minor": 5
}
